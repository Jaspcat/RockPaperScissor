{
 "cells": [
  {
   "cell_type": "code",
   "execution_count": null,
   "id": "2ed2c2ad",
   "metadata": {},
   "outputs": [
    {
     "name": "stdout",
     "output_type": "stream",
     "text": [
      "Welcome to Rock, Paper, Scissors\n",
      "~~~~~~~~~~~~~~~~~~~~~~~~~~~~~~~~\n",
      "\n"
     ]
    }
   ],
   "source": [
    "import random# imports the random funtion of python.\n",
    "\n",
    "print(\"Welcome to Rock, Paper, Scissors\")\n",
    "print(\"~~~~~~~~~~~~~~~~~~~~~~~~~~~~~~~~\")\n",
    "print()#Header of Program\n",
    "\n",
    "player = input(\"Please Choose Rock, Paper or Scissor:\\n\").lower()#Takes the input from player. .lower() allows input to not be case sensitive\n",
    "\n",
    "random_num = random.randint(0,2)\n",
    "if random_num == 0:\n",
    "    computer = \"rock\"\n",
    "elif random_num == 1:\n",
    "    computer = \"paper\"\n",
    "elif random_num == 2:\n",
    "    computer = \"scissor\"# assigns random selection to computer and defines what each random # is.\n",
    "    \n",
    "while player != \"rock\" and player != \"paper\" and player != \"scissor\":\n",
    "    player = input(\"Invalid input, Please input Rock, Paper or Scissor\").lower()#provides an error message if an incorrect selection is inputed.\n",
    "\n",
    "print()        \n",
    "print(\"You choose:\",player)\n",
    "print(\"Computer chooses:\",computer)# Displays players and computers selection.\n",
    "\n",
    "if player == \"rock\":\n",
    "    if computer == \"rock\":\n",
    "        print(\"Tie\")\n",
    "    elif computer == \"paper\":\n",
    "        print(\"You Lose\")\n",
    "    elif computer == \"scissor\":\n",
    "        print (\"You Win\")\n",
    "elif player == \"paper\":\n",
    "    if computer == \"paper\":\n",
    "        print(\"Tie\")\n",
    "    elif computer == \"scissor\":\n",
    "        print(\"You Lose\")\n",
    "    elif computer == \"rock\":\n",
    "        print(\"You Win\")\n",
    "elif player == \"scissor\":\n",
    "    if computer == \"scissor\": \n",
    "        print(\"Tie\")\n",
    "    elif computer == \"rock\":\n",
    "        print(\"You Lose\")\n",
    "    elif computer == \"paper\":\n",
    "        print (\"You Win\")#Defines the perameters of what is a win, lose or tie."
   ]
  },
  {
   "cell_type": "code",
   "execution_count": null,
   "id": "57944329",
   "metadata": {},
   "outputs": [],
   "source": []
  }
 ],
 "metadata": {
  "kernelspec": {
   "display_name": "Python 3 (ipykernel)",
   "language": "python",
   "name": "python3"
  },
  "language_info": {
   "codemirror_mode": {
    "name": "ipython",
    "version": 3
   },
   "file_extension": ".py",
   "mimetype": "text/x-python",
   "name": "python",
   "nbconvert_exporter": "python",
   "pygments_lexer": "ipython3",
   "version": "3.9.7"
  }
 },
 "nbformat": 4,
 "nbformat_minor": 5
}
